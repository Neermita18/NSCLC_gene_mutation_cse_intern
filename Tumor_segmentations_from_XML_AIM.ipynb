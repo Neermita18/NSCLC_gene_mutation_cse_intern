{
  "nbformat": 4,
  "nbformat_minor": 0,
  "metadata": {
    "colab": {
      "provenance": [],
      "authorship_tag": "ABX9TyPktAopopmeFQfyhtEjEhSj",
      "include_colab_link": true
    },
    "kernelspec": {
      "name": "python3",
      "display_name": "Python 3"
    },
    "language_info": {
      "name": "python"
    }
  },
  "cells": [
    {
      "cell_type": "markdown",
      "metadata": {
        "id": "view-in-github",
        "colab_type": "text"
      },
      "source": [
        "<a href=\"https://colab.research.google.com/github/Neermita18/NSCLC_gene_mutation_cse_intern/blob/main/Tumor_segmentations_from_XML_AIM.ipynb\" target=\"_parent\"><img src=\"https://colab.research.google.com/assets/colab-badge.svg\" alt=\"Open In Colab\"/></a>"
      ]
    },
    {
      "cell_type": "code",
      "source": [
        "import xml.etree.ElementTree as ET\n",
        "\n",
        "# File path to the XML file\n",
        "xml_file = 'AMC-003.xml'\n",
        "\n",
        "try:\n",
        "    # Parse XML\n",
        "    tree = ET.parse(xml_file)\n",
        "    root = tree.getroot()\n",
        "\n",
        "    # Namespace dictionary for AIMv4\n",
        "    ns = {\n",
        "        'aim': 'gme://caCORE.caCORE/4.4/edu.northwestern.radiology.AIM',\n",
        "        'xsi': 'http://www.w3.org/2001/XMLSchema-instance',\n",
        "    }\n",
        "\n",
        "    # Find all TwoDimensionCircle MarkupEntity elements\n",
        "    markup_entities = root.findall('.//aim:MarkupEntity[@xsi:type=\"TwoDimensionCircle\"]', ns)\n",
        "\n",
        "    # Loop through each MarkupEntity to extract coordinates\n",
        "    for markup_entity in markup_entities:\n",
        "        # Extract unique identifier if needed\n",
        "        unique_identifier = markup_entity.find('aim:uniqueIdentifier', ns).attrib.get('root')\n",
        "\n",
        "        # Extract coordinates\n",
        "        coordinates = []\n",
        "        coordinate_elements = markup_entity.findall('aim:twoDimensionSpatialCoordinateCollection/aim:TwoDimensionSpatialCoordinate', ns)\n",
        "        for coord_elem in coordinate_elements:\n",
        "            x = float(coord_elem.find('aim:x', ns).attrib.get('value'))\n",
        "            y = float(coord_elem.find('aim:y', ns).attrib.get('value'))\n",
        "            coordinates.append((x, y))\n",
        "\n",
        "        # Print or process coordinates\n",
        "        print(f\"Unique Identifier: {unique_identifier}\")\n",
        "        print(\"Coordinates:\")\n",
        "        for idx, (x, y) in enumerate(coordinates):\n",
        "            print(f\"  Coordinate {idx + 1}: ({x}, {y})\")\n",
        "        print()\n",
        "\n",
        "except FileNotFoundError:\n",
        "    print(f\"File '{xml_file}' not found.\")\n",
        "except ET.ParseError as e:\n",
        "    print(f\"Error parsing XML: {e}\")\n",
        "except Exception as e:\n",
        "    print(f\"An error occurred: {e}\")\n"
      ],
      "metadata": {
        "colab": {
          "base_uri": "https://localhost:8080/"
        },
        "id": "3_am8JhydI6_",
        "outputId": "42c36afe-efc9-4268-efb9-fbd7c3d6d5d8"
      },
      "execution_count": 11,
      "outputs": [
        {
          "output_type": "stream",
          "name": "stdout",
          "text": [
            "Unique Identifier: z2wxhjsaeoo2tglwhaw7hpge0mekisjwnx6g4jim\n",
            "Coordinates:\n",
            "  Coordinate 1: (126.51572534746481, 344.80858628001107)\n",
            "  Coordinate 2: (127.87158162654893, 346.8423706986373)\n",
            "\n"
          ]
        }
      ]
    },
    {
      "cell_type": "code",
      "source": [
        "pip install pydicom"
      ],
      "metadata": {
        "colab": {
          "base_uri": "https://localhost:8080/"
        },
        "id": "ZVyWkb1og4J8",
        "outputId": "2763d1ff-3add-4b58-f09a-99eb10ad59f9"
      },
      "execution_count": 14,
      "outputs": [
        {
          "output_type": "stream",
          "name": "stdout",
          "text": [
            "Collecting pydicom\n",
            "  Downloading pydicom-2.4.4-py3-none-any.whl (1.8 MB)\n",
            "\u001b[?25l     \u001b[90m━━━━━━━━━━━━━━━━━━━━━━━━━━━━━━━━━━━━━━━━\u001b[0m \u001b[32m0.0/1.8 MB\u001b[0m \u001b[31m?\u001b[0m eta \u001b[36m-:--:--\u001b[0m\r\u001b[2K     \u001b[91m━━━━\u001b[0m\u001b[90m╺\u001b[0m\u001b[90m━━━━━━━━━━━━━━━━━━━━━━━━━━━━━━━━━━━\u001b[0m \u001b[32m0.2/1.8 MB\u001b[0m \u001b[31m5.3 MB/s\u001b[0m eta \u001b[36m0:00:01\u001b[0m\r\u001b[2K     \u001b[91m━━━━━━━━━━━━━━━━━━━━━━━━━━━━━━━━━━━━━━━\u001b[0m\u001b[91m╸\u001b[0m \u001b[32m1.8/1.8 MB\u001b[0m \u001b[31m25.5 MB/s\u001b[0m eta \u001b[36m0:00:01\u001b[0m\r\u001b[2K     \u001b[90m━━━━━━━━━━━━━━━━━━━━━━━━━━━━━━━━━━━━━━━━\u001b[0m \u001b[32m1.8/1.8 MB\u001b[0m \u001b[31m19.6 MB/s\u001b[0m eta \u001b[36m0:00:00\u001b[0m\n",
            "\u001b[?25hInstalling collected packages: pydicom\n",
            "Successfully installed pydicom-2.4.4\n"
          ]
        }
      ]
    },
    {
      "cell_type": "code",
      "source": [],
      "metadata": {
        "id": "68W9Z82dh0-n"
      },
      "execution_count": null,
      "outputs": []
    }
  ]
}